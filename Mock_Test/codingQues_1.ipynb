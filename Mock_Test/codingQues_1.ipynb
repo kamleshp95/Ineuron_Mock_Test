{
 "cells": [
  {
   "cell_type": "code",
   "execution_count": 1,
   "metadata": {},
   "outputs": [],
   "source": [
    "def moveZeroes(nums):\n",
    "    left = 0  # left pointer\n",
    "    for right in range(len(nums)):\n",
    "        if nums[right] != 0:\n",
    "            nums[left], nums[right] = nums[right], nums[left]\n",
    "            left += 1\n",
    "\n",
    "    # Fill the remaining elements with zeros\n",
    "    while left < len(nums):\n",
    "        nums[left] = 0\n",
    "        left += 1\n",
    "\n",
    "    return nums"
   ]
  },
  {
   "cell_type": "code",
   "execution_count": 2,
   "metadata": {},
   "outputs": [
    {
     "name": "stdout",
     "output_type": "stream",
     "text": [
      "Output : [1, 3, 12, 0, 0]\n",
      "Output : [0]\n"
     ]
    }
   ],
   "source": [
    "nums1 = [0, 1, 0, 3, 12]\n",
    "print(f\"Output : {moveZeroes(nums1)}\")\n",
    "\n",
    "nums2 = [0]\n",
    "print(f\"Output : {moveZeroes(nums2)}\")\n"
   ]
  }
 ],
 "metadata": {
  "kernelspec": {
   "display_name": "Python 3",
   "language": "python",
   "name": "python3"
  },
  "language_info": {
   "codemirror_mode": {
    "name": "ipython",
    "version": 3
   },
   "file_extension": ".py",
   "mimetype": "text/x-python",
   "name": "python",
   "nbconvert_exporter": "python",
   "pygments_lexer": "ipython3",
   "version": "3.9.6"
  },
  "orig_nbformat": 4
 },
 "nbformat": 4,
 "nbformat_minor": 2
}
