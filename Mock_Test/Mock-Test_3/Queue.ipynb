{
 "cells": [
  {
   "cell_type": "code",
   "execution_count": 1,
   "metadata": {},
   "outputs": [],
   "source": [
    "class Queue:\n",
    "    def __init__(self):\n",
    "        self.queue = []\n",
    "\n",
    "    def enqueue(self, element):\n",
    "        self.queue.append(element)\n",
    "\n",
    "    def dequeue(self):\n",
    "        if self.isEmpty():\n",
    "            return None\n",
    "        return self.queue.pop(0)\n",
    "\n",
    "    def isEmpty(self):\n",
    "        return len(self.queue) == 0\n"
   ]
  },
  {
   "cell_type": "code",
   "execution_count": 2,
   "metadata": {},
   "outputs": [
    {
     "name": "stdout",
     "output_type": "stream",
     "text": [
      "1\n",
      "2\n",
      "False\n",
      "3\n",
      "True\n"
     ]
    }
   ],
   "source": [
    "my_queue = Queue()\n",
    "my_queue.enqueue(1)\n",
    "my_queue.enqueue(2)\n",
    "my_queue.enqueue(3)\n",
    "\n",
    "print(my_queue.dequeue())  # Output: 1\n",
    "print(my_queue.dequeue())  # Output: 2\n",
    "print(my_queue.isEmpty())  # Output: False\n",
    "\n",
    "print(my_queue.dequeue())  # Output: 3\n",
    "print(my_queue.isEmpty())  # Output: True\n"
   ]
  }
 ],
 "metadata": {
  "kernelspec": {
   "display_name": "Python 3",
   "language": "python",
   "name": "python3"
  },
  "language_info": {
   "codemirror_mode": {
    "name": "ipython",
    "version": 3
   },
   "file_extension": ".py",
   "mimetype": "text/x-python",
   "name": "python",
   "nbconvert_exporter": "python",
   "pygments_lexer": "ipython3",
   "version": "3.9.6"
  },
  "orig_nbformat": 4
 },
 "nbformat": 4,
 "nbformat_minor": 2
}
